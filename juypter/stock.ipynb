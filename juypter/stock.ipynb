{
 "cells": [
  {
   "cell_type": "code",
   "execution_count": 22,
   "metadata": {
    "collapsed": false
   },
   "outputs": [
    {
     "name": "stdout",
     "output_type": "stream",
     "text": [
      "<closed file 'test.txt', mode 'wb+' at 0x00000000043A1150>\n"
     ]
    }
   ],
   "source": [
    "import requests\n",
    "import re\n",
    "\n",
    "headers={'User-Agent':'Mozilla/5.0 (Windows NT 10.0; WOW64) AppleWebKit/537.36 (KHTML, like Gecko) Chrome/52.0.2743.116 Safari/537.36'}\n",
    "rs=requests.session()\n",
    "res = rs.get('https://www.stockdog.com.tw/stockdog/index.php?m=overview&sid=1101+%E5%8F%B0%E6%B3%A5',headers=headers)\n",
    "\n",
    "m = re.findall('document.getElementById\\(\\'g\\d+\\'\\).innerHTML=\\'<iframe src=\\\"(.*?)\\\"',res.text)\n",
    "\n",
    "res2= rs.get('https://www.stockdog.com.tw/stockdog/'+m[0],headers=headers)\n",
    "f= open('test.txt','wb+')\n",
    "f.writelines(res2)\n",
    "f.close()\n",
    "\n"
   ]
  },
  {
   "cell_type": "code",
   "execution_count": null,
   "metadata": {
    "collapsed": true
   },
   "outputs": [],
   "source": []
  }
 ],
 "metadata": {
  "kernelspec": {
   "display_name": "Python 2",
   "language": "python",
   "name": "python2"
  },
  "language_info": {
   "codemirror_mode": {
    "name": "ipython",
    "version": 2
   },
   "file_extension": ".py",
   "mimetype": "text/x-python",
   "name": "python",
   "nbconvert_exporter": "python",
   "pygments_lexer": "ipython2",
   "version": "2.7.11"
  }
 },
 "nbformat": 4,
 "nbformat_minor": 0
}
